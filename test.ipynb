{
 "cells": [
  {
   "cell_type": "code",
   "execution_count": 2,
   "metadata": {},
   "outputs": [],
   "source": [
    "client_id = \"82BE1B5C704EAF470D92EC1E70F150D3F574501566FF7B9CE1892D7FCE133F57\""
   ]
  },
  {
   "cell_type": "code",
   "execution_count": 4,
   "metadata": {},
   "outputs": [
    {
     "name": "stdout",
     "output_type": "stream",
     "text": [
      "Visit this website and confirm the application authorization request:\n",
      "https://yoomoney.ru/oauth2/authorize?requestid=353530363030353139365f31613434653061613161393839373063643339643238626630383662393163653238356364343733\n",
      "Your access token:\n",
      "4100118633515143.1627D68B27A4F61683D6553FC9166AE7822D418FD50913A69ED4E83349FF24B5EE2C9B5D739797C50CDE0BDD6454090CA695670C06C246AA23DF036F09C183FC3CFFECB78BFB3DC6E5CD620BA3EE10D171C7A1BD049B7572541A6902A336D5697D647E9BFBE64A6310DAA430760C773963D7A05E23244C7D05EE8032214C0BD0\n"
     ]
    },
    {
     "data": {
      "text/plain": [
       "<yoomoney.authorize.authorize.Authorize at 0x1fbdea07be0>"
      ]
     },
     "execution_count": 4,
     "metadata": {},
     "output_type": "execute_result"
    }
   ],
   "source": [
    "from yoomoney import Authorize\n",
    "\n",
    "Authorize(\n",
    "      client_id=client_id,\n",
    "      redirect_uri=\"https://coffeetox.ru\",\n",
    "      client_secret=\"heyow\",\n",
    "      scope=[\"account-info\",\n",
    "             \"operation-history\",\n",
    "             \"operation-details\",\n",
    "             \"incoming-transfers\",\n",
    "             \"payment-p2p\",\n",
    "             \"payment-shop\",\n",
    "             ]\n",
    "      )"
   ]
  },
  {
   "cell_type": "code",
   "execution_count": null,
   "metadata": {},
   "outputs": [],
   "source": []
  }
 ],
 "metadata": {
  "kernelspec": {
   "display_name": "Python 3",
   "language": "python",
   "name": "python3"
  },
  "language_info": {
   "codemirror_mode": {
    "name": "ipython",
    "version": 3
   },
   "file_extension": ".py",
   "mimetype": "text/x-python",
   "name": "python",
   "nbconvert_exporter": "python",
   "pygments_lexer": "ipython3",
   "version": "3.9.2"
  }
 },
 "nbformat": 4,
 "nbformat_minor": 2
}
